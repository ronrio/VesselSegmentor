{
 "cells": [
  {
   "cell_type": "markdown",
   "metadata": {},
   "source": [
    "# Convert Tubes To Images"
   ]
  },
  {
   "cell_type": "markdown",
   "metadata": {},
   "source": [
    "This notebook contains a few examples of how to call wrapped methods in itk and ITKTubeTK."
   ]
  },
  {
   "cell_type": "markdown",
   "metadata": {},
   "source": [
    "ITK, ITKTubeTK, and ITKWidgets must be installed on your system for this notebook to work."
   ]
  },
  {
   "cell_type": "code",
   "execution_count": 1,
   "metadata": {},
   "outputs": [],
   "source": [
    "import os\n",
    "import sys\n",
    "import numpy"
   ]
  },
  {
   "cell_type": "code",
   "execution_count": 2,
   "metadata": {},
   "outputs": [],
   "source": [
    "import itk\n",
    "from itk import TubeTK as ttk\n",
    "from itkwidgets import view"
   ]
  },
  {
   "cell_type": "markdown",
   "metadata": {},
   "source": [
    "Load the tubes and a reference image which provides the size, spacing, origin, and orientation for the desired output image."
   ]
  },
  {
   "cell_type": "code",
   "execution_count": 6,
   "metadata": {},
   "outputs": [],
   "source": [
    "PixelType = itk.F\n",
    "Dimension = 3\n",
    "ImageType = itk.Image[PixelType, Dimension]\n",
    "    \n",
    "# Read tre file\n",
    "TubeFileReaderType = itk.SpatialObjectReader[Dimension]\n",
    "    \n",
    "tubeFileReader = TubeFileReaderType.New()\n",
    "#tubeFileReader.SetFileName(\"Data/MRI-Normals/Normal056-VascularNetwork.tre\")\n",
    "#tubeFileReader.SetFileName(\"MRA-Head/vessels.tre\")\n",
    "tubeFileReader.SetFileName(\"../TubeTK Examples_Data/MRI-Normals/Normal071-VascularNetwork.tre\")\n",
    "tubeFileReader.Update()\n",
    "\n",
    "tubes = tubeFileReader.GetGroup()\n",
    "\n",
    "# Read template image\n",
    "TemplateImageType = itk.Image[PixelType, Dimension]\n",
    "TemplateImageReaderType = itk.ImageFileReader[TemplateImageType]\n",
    "    \n",
    "templateImageReader = TemplateImageReaderType.New()\n",
    "#templateImageReader.SetFileName(\"Data/MRI-Normals/Normal056-MRA.mha\")\n",
    "templateImageReader.SetFileName(\"../TubeTK Examples_Data/MRI-Normals/Normal071-MRA.mha\")\n",
    "templateImageReader.Update()\n",
    "\n",
    "templateImage = templateImageReader.GetOutput()"
   ]
  },
  {
   "cell_type": "markdown",
   "metadata": {},
   "source": [
    "Visualize the template image, just because it looks cool - the data in the image is actually irrelevant."
   ]
  },
  {
   "cell_type": "code",
   "execution_count": 4,
   "metadata": {},
   "outputs": [
    {
     "data": {
      "application/vnd.jupyter.widget-view+json": {
       "model_id": "8a1375a1201342aaa265fe2d9ce27d74",
       "version_major": 2,
       "version_minor": 0
      },
      "text/plain": [
       "Viewer(geometries=[], gradient_opacity=0.22, point_sets=[], rendered_image=<itk.itkImagePython.itkImageF3; pro…"
      ]
     },
     "metadata": {},
     "output_type": "display_data"
    }
   ],
   "source": [
    "view(templateImage)"
   ]
  },
  {
   "cell_type": "markdown",
   "metadata": {},
   "source": [
    "Create a binary image that represents the spatial extent of the TubeSpatialObjects in the hierarchy of SpatialObjects in the variable \"tubes\" that was read-in above.   If you only want to visualize centerlines of the tubes, set \"UseRadius\" to false."
   ]
  },
  {
   "cell_type": "code",
   "execution_count": 7,
   "metadata": {},
   "outputs": [
    {
     "data": {
      "application/vnd.jupyter.widget-view+json": {
       "model_id": "8e997c6f552148a19725d2491085d0aa",
       "version_major": 2,
       "version_minor": 0
      },
      "text/plain": [
       "Viewer(geometries=[], gradient_opacity=0.22, point_sets=[], rendered_image=<itk.itkImagePython.itkImageF3; pro…"
      ]
     },
     "metadata": {},
     "output_type": "display_data"
    }
   ],
   "source": [
    "TubesToImageFilterType = ttk.ConvertTubesToImage[TemplateImageType]\n",
    "tubesToImageFilter = TubesToImageFilterType.New()\n",
    "tubesToImageFilter.SetUseRadius(True)\n",
    "tubesToImageFilter.SetTemplateImage(templateImageReader.GetOutput())\n",
    "tubesToImageFilter.SetInput(tubes)\n",
    "tubesToImageFilter.Update()\n",
    "\n",
    "outputImage = tubesToImageFilter.GetOutput()\n",
    "view(outputImage)"
   ]
  },
  {
   "cell_type": "markdown",
   "metadata": {},
   "source": [
    "Visualize the results by blending the template and output images.  Again, the content of the template image\n",
    "doesn't actually matter, but since these tubes were generated from the content of the template image, blending them illustrates how well the binary tube image corresponds with their source image."
   ]
  },
  {
   "cell_type": "code",
   "execution_count": 8,
   "metadata": {},
   "outputs": [],
   "source": [
    "TTKImageMathType = ttk.ImageMath[ImageType,ImageType]\n",
    "\n",
    "imMath = TTKImageMathType.New(Input = outputImage)\n",
    "imMath.AddImages(templateImage, 2048, 1)\n",
    "combinedImage = imMath.GetOutput()\n"
   ]
  },
  {
   "cell_type": "code",
   "execution_count": null,
   "metadata": {},
   "outputs": [],
   "source": []
  }
 ],
 "metadata": {
  "interpreter": {
   "hash": "c39185dbfcf29a73265fa67ac90e1b8cf7922f45a5a9c7490342e7880f9da45c"
  },
  "kernelspec": {
   "display_name": "IT_manage",
   "language": "python",
   "name": "it_manage"
  },
  "language_info": {
   "codemirror_mode": {
    "name": "ipython",
    "version": 3
   },
   "file_extension": ".py",
   "mimetype": "text/x-python",
   "name": "python",
   "nbconvert_exporter": "python",
   "pygments_lexer": "ipython3",
   "version": "3.9.7"
  }
 },
 "nbformat": 4,
 "nbformat_minor": 4
}
